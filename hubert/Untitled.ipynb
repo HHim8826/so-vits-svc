{
 "cells": [
  {
   "cell_type": "code",
   "execution_count": null,
   "id": "7bd73c52-c97b-428b-a540-ee2c8547c316",
   "metadata": {},
   "outputs": [
    {
     "name": "stdout",
     "output_type": "stream",
     "text": [
      "--2023-03-09 17:52:49--  https://dl2.boxcloud.com/d/1/b1!sssZj8qeq8Gi6mJDR4nMavabXsJPwR_RmRnax8ZsUXyf4gO4jQiIA84GMgsU2On4H3VHpLZVQKKmgF4eu17e1EiV3RLlvZpKRW7MKodWiv-5J_PFbl7Vst0WyiHI3vMEg0B6QkwFMmz1OWJIVk-ry_3-fQWhSCLX8i6yh4LswLrZhtVGIq74cGS9ehCLq89-oxkVlNUN_wlgim7a88N6H9AAXX4HjyfYcH7p_SMeDR91koLK5z_PzC-dspx4Nv95iegqyPqYB72aRmt2qva1d1y2I9Hs1QU-_itfzUy-HJLupIG9moV1zsqLFNuFJ2fD3W6uuOsYPy46aORzKfndEXTvvEqr8Swddb1oBXRTXjglbmysMcKIFboNPVxtDJ5P1XCAB-PtTAvXwyK7SZ9q4INOJVJuXjENCf1VKFkEEgWMZrROmasVn1fU8Hf57UnIe9bavYfuVq_Rwfw_v9sy2Y_SuYPB2xMisNAiG1wAg5NHw2-ex8JNk0YNumixbHgRGeHQkXORZc7OyH2zSf5PoYoutVxKfS0NnOreTBCUw6dGs3DeiPjAHd8EIqSWDyuSg8KGOkZ1N6AaojuBzPvtfR5jTxVtF7JxL_QHPktRKQ5emXLXBKbxxFgMRZIdJEtjyKBWJpR5mMjsK9Il2bosSHqPTEAwSkL-4KwUTwXuoVPxrkINuevq5B-v_Sxb4fOfPhEy4R2-Fns4JEFr4fKm1Ol_yNiAoE31OpttC4qnpOIDDTXK5kQn1CyC-K4S9kJmjWyDli2pBfqW9ZPKomYxYY-mA-FcjZlnOdLn7ssbteazKW1l0ydF-Q8IZHJT2g35DrDgZFiHZOBgJcrnEdNitTK2-jUXD_0LJQA8YQ_U3BcpgrgDa1LujBkcng5Q_AVaBB8JrFuRoVfriPPUT0PhL-qBne0tykKtKBzhXsW8KcMM0JHK5y3Bnm7M24Ukv4_fsTo-XEOhXUp5kaltPUXbGhgOLgBcXKYFWpAuU5b2EbHMh6xaEOaIDEPLJvN6qUVkh3yNy1itxu3teaSe8xascD1T7FJp3HXJ8WHWaMS5PTHk1sj5sKKIONW5qciqxahvNY04ojqeYlEQvHJZhk4vf_-I7qNWVHsBqKSj3pz--lmNVRK7rcLPSojnqIgM1gc6DHgFsr_lvGhDEplNLmp46Eg3dlt3BIqL0uRa7Ve6FeGr_dQPNsujVCLPGS1663aF0jtD8Pge7_bX5cipMEy9mJZxkXaXUSkHScXogU0enF_KqnamoITx4qwOnxUCR6XpsPdiE5Lthk8ZEmPyNHwY79VWjKaSBBtTjD2ZW_BCAloukY6GgzJw/download\n",
      "Resolving dl2.boxcloud.com (dl2.boxcloud.com)... 74.112.186.128\n",
      "Connecting to dl2.boxcloud.com (dl2.boxcloud.com)|74.112.186.128|:443... connected.\n",
      "HTTP request sent, awaiting response... 200 OK\n",
      "Length: 1330114945 (1.2G) [application/octet-stream]\n",
      "Saving to: ‘download’\n",
      "\n",
      "download             53%[=========>          ] 682.58M  13.9MB/s    eta 43s    "
     ]
    }
   ],
   "source": [
    "!wget https://dl2.boxcloud.com/d/1/b1!sssZj8qeq8Gi6mJDR4nMavabXsJPwR_RmRnax8ZsUXyf4gO4jQiIA84GMgsU2On4H3VHpLZVQKKmgF4eu17e1EiV3RLlvZpKRW7MKodWiv-5J_PFbl7Vst0WyiHI3vMEg0B6QkwFMmz1OWJIVk-ry_3-fQWhSCLX8i6yh4LswLrZhtVGIq74cGS9ehCLq89-oxkVlNUN_wlgim7a88N6H9AAXX4HjyfYcH7p_SMeDR91koLK5z_PzC-dspx4Nv95iegqyPqYB72aRmt2qva1d1y2I9Hs1QU-_itfzUy-HJLupIG9moV1zsqLFNuFJ2fD3W6uuOsYPy46aORzKfndEXTvvEqr8Swddb1oBXRTXjglbmysMcKIFboNPVxtDJ5P1XCAB-PtTAvXwyK7SZ9q4INOJVJuXjENCf1VKFkEEgWMZrROmasVn1fU8Hf57UnIe9bavYfuVq_Rwfw_v9sy2Y_SuYPB2xMisNAiG1wAg5NHw2-ex8JNk0YNumixbHgRGeHQkXORZc7OyH2zSf5PoYoutVxKfS0NnOreTBCUw6dGs3DeiPjAHd8EIqSWDyuSg8KGOkZ1N6AaojuBzPvtfR5jTxVtF7JxL_QHPktRKQ5emXLXBKbxxFgMRZIdJEtjyKBWJpR5mMjsK9Il2bosSHqPTEAwSkL-4KwUTwXuoVPxrkINuevq5B-v_Sxb4fOfPhEy4R2-Fns4JEFr4fKm1Ol_yNiAoE31OpttC4qnpOIDDTXK5kQn1CyC-K4S9kJmjWyDli2pBfqW9ZPKomYxYY-mA-FcjZlnOdLn7ssbteazKW1l0ydF-Q8IZHJT2g35DrDgZFiHZOBgJcrnEdNitTK2-jUXD_0LJQA8YQ_U3BcpgrgDa1LujBkcng5Q_AVaBB8JrFuRoVfriPPUT0PhL-qBne0tykKtKBzhXsW8KcMM0JHK5y3Bnm7M24Ukv4_fsTo-XEOhXUp5kaltPUXbGhgOLgBcXKYFWpAuU5b2EbHMh6xaEOaIDEPLJvN6qUVkh3yNy1itxu3teaSe8xascD1T7FJp3HXJ8WHWaMS5PTHk1sj5sKKIONW5qciqxahvNY04ojqeYlEQvHJZhk4vf_-I7qNWVHsBqKSj3pz--lmNVRK7rcLPSojnqIgM1gc6DHgFsr_lvGhDEplNLmp46Eg3dlt3BIqL0uRa7Ve6FeGr_dQPNsujVCLPGS1663aF0jtD8Pge7_bX5cipMEy9mJZxkXaXUSkHScXogU0enF_KqnamoITx4qwOnxUCR6XpsPdiE5Lthk8ZEmPyNHwY79VWjKaSBBtTjD2ZW_BCAloukY6GgzJw/download"
   ]
  },
  {
   "cell_type": "code",
   "execution_count": null,
   "id": "ddf46855-ba04-4b11-b0df-dbd52834acb1",
   "metadata": {},
   "outputs": [],
   "source": []
  }
 ],
 "metadata": {
  "kernelspec": {
   "display_name": "Python 3 (ipykernel)",
   "language": "python",
   "name": "python3"
  },
  "language_info": {
   "codemirror_mode": {
    "name": "ipython",
    "version": 3
   },
   "file_extension": ".py",
   "mimetype": "text/x-python",
   "name": "python",
   "nbconvert_exporter": "python",
   "pygments_lexer": "ipython3",
   "version": "3.8.10"
  }
 },
 "nbformat": 4,
 "nbformat_minor": 5
}
